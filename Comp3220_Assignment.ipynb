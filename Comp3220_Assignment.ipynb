{
 "cells": [
  {
   "cell_type": "markdown",
   "metadata": {
    "colab_type": "text",
    "id": "GZEe5N2dPUGx"
   },
   "source": [
    "# Titanic Dataset"
   ]
  },
  {
   "cell_type": "markdown",
   "metadata": {
    "colab_type": "text",
    "id": "GUiGgYULPdw5"
   },
   "source": [
    "This notebook is based on the Titanic Dataset Machine Learning from Kaggle. Complete this notebook to complete the assignment. "
   ]
  },
  {
   "cell_type": "code",
   "execution_count": 2,
   "metadata": {
    "colab": {},
    "colab_type": "code",
    "id": "nlKoJIzpXHCD"
   },
   "outputs": [
    {
     "name": "stderr",
     "output_type": "stream",
     "text": [
      "Using TensorFlow backend.\n"
     ]
    }
   ],
   "source": [
    "import pandas as pd\n",
    "import tensorflow as tf\n",
    "import numpy as np\n",
    "from keras.models import Sequential\n",
    "from keras.layers import Dense\n",
    "from sklearn.model_selection import train_test_split\n",
    "from sklearn.linear_model import LogisticRegression\n",
    "from sklearn import metrics\n",
    "from sklearn import preprocessing\n",
    "from sklearn.metrics import accuracy_score\n",
    "from pandas import DataFrame"
   ]
  },
  {
   "cell_type": "markdown",
   "metadata": {
    "colab_type": "text",
    "id": "yOnwjlZwMhvi"
   },
   "source": [
    "## Data Extraction"
   ]
  },
  {
   "cell_type": "markdown",
   "metadata": {
    "colab_type": "text",
    "id": "XCcI8jUNX3Ud"
   },
   "source": [
    "Read from train.csv into a pandas data frame(call it df)"
   ]
  },
  {
   "cell_type": "code",
   "execution_count": 8,
   "metadata": {
    "colab": {},
    "colab_type": "code",
    "id": "eflOahsWXVyo"
   },
   "outputs": [],
   "source": [
    "df = pd.read_csv(\"train.csv\")\n",
    "fm ={'Sex':{'male': 0, 'female': 1}}\n",
    "embark = {'S': 1, 'C': 2, 'Q': 3}\n",
    "df.replace(embark, inplace=True)\n",
    "df.replace(fm, inplace=True)"
   ]
  },
  {
   "cell_type": "markdown",
   "metadata": {
    "colab_type": "text",
    "id": "BZ7eTH73MlQA"
   },
   "source": [
    "## Data Visualization"
   ]
  },
  {
   "cell_type": "markdown",
   "metadata": {
    "colab_type": "text",
    "id": "--xmmWkDX_9j"
   },
   "source": [
    "Try viewing the first five rows of your data (Note. try the head function)"
   ]
  },
  {
   "cell_type": "code",
   "execution_count": 9,
   "metadata": {
    "colab": {
     "base_uri": "https://localhost:8080/",
     "height": 255
    },
    "colab_type": "code",
    "id": "sdoOcgYLX_Ms",
    "outputId": "5b2041b0-48d6-4f63-9a50-73bacf58e391"
   },
   "outputs": [
    {
     "data": {
      "text/html": [
       "<div>\n",
       "<style scoped>\n",
       "    .dataframe tbody tr th:only-of-type {\n",
       "        vertical-align: middle;\n",
       "    }\n",
       "\n",
       "    .dataframe tbody tr th {\n",
       "        vertical-align: top;\n",
       "    }\n",
       "\n",
       "    .dataframe thead th {\n",
       "        text-align: right;\n",
       "    }\n",
       "</style>\n",
       "<table border=\"1\" class=\"dataframe\">\n",
       "  <thead>\n",
       "    <tr style=\"text-align: right;\">\n",
       "      <th></th>\n",
       "      <th>PassengerId</th>\n",
       "      <th>Survived</th>\n",
       "      <th>Pclass</th>\n",
       "      <th>Name</th>\n",
       "      <th>Sex</th>\n",
       "      <th>Age</th>\n",
       "      <th>SibSp</th>\n",
       "      <th>Parch</th>\n",
       "      <th>Ticket</th>\n",
       "      <th>Fare</th>\n",
       "      <th>Cabin</th>\n",
       "      <th>Embarked</th>\n",
       "    </tr>\n",
       "  </thead>\n",
       "  <tbody>\n",
       "    <tr>\n",
       "      <td>0</td>\n",
       "      <td>1</td>\n",
       "      <td>0</td>\n",
       "      <td>3</td>\n",
       "      <td>Braund, Mr. Owen Harris</td>\n",
       "      <td>0</td>\n",
       "      <td>22.0</td>\n",
       "      <td>1</td>\n",
       "      <td>0</td>\n",
       "      <td>A/5 21171</td>\n",
       "      <td>7.2500</td>\n",
       "      <td>NaN</td>\n",
       "      <td>1.0</td>\n",
       "    </tr>\n",
       "    <tr>\n",
       "      <td>1</td>\n",
       "      <td>2</td>\n",
       "      <td>1</td>\n",
       "      <td>1</td>\n",
       "      <td>Cumings, Mrs. John Bradley (Florence Briggs Th...</td>\n",
       "      <td>1</td>\n",
       "      <td>38.0</td>\n",
       "      <td>1</td>\n",
       "      <td>0</td>\n",
       "      <td>PC 17599</td>\n",
       "      <td>71.2833</td>\n",
       "      <td>C85</td>\n",
       "      <td>2.0</td>\n",
       "    </tr>\n",
       "    <tr>\n",
       "      <td>2</td>\n",
       "      <td>3</td>\n",
       "      <td>1</td>\n",
       "      <td>3</td>\n",
       "      <td>Heikkinen, Miss. Laina</td>\n",
       "      <td>1</td>\n",
       "      <td>26.0</td>\n",
       "      <td>0</td>\n",
       "      <td>0</td>\n",
       "      <td>STON/O2. 3101282</td>\n",
       "      <td>7.9250</td>\n",
       "      <td>NaN</td>\n",
       "      <td>1.0</td>\n",
       "    </tr>\n",
       "    <tr>\n",
       "      <td>3</td>\n",
       "      <td>4</td>\n",
       "      <td>1</td>\n",
       "      <td>1</td>\n",
       "      <td>Futrelle, Mrs. Jacques Heath (Lily May Peel)</td>\n",
       "      <td>1</td>\n",
       "      <td>35.0</td>\n",
       "      <td>1</td>\n",
       "      <td>0</td>\n",
       "      <td>113803</td>\n",
       "      <td>53.1000</td>\n",
       "      <td>C123</td>\n",
       "      <td>1.0</td>\n",
       "    </tr>\n",
       "    <tr>\n",
       "      <td>4</td>\n",
       "      <td>5</td>\n",
       "      <td>0</td>\n",
       "      <td>3</td>\n",
       "      <td>Allen, Mr. William Henry</td>\n",
       "      <td>0</td>\n",
       "      <td>35.0</td>\n",
       "      <td>0</td>\n",
       "      <td>0</td>\n",
       "      <td>373450</td>\n",
       "      <td>8.0500</td>\n",
       "      <td>NaN</td>\n",
       "      <td>1.0</td>\n",
       "    </tr>\n",
       "  </tbody>\n",
       "</table>\n",
       "</div>"
      ],
      "text/plain": [
       "   PassengerId  Survived  Pclass  \\\n",
       "0            1         0       3   \n",
       "1            2         1       1   \n",
       "2            3         1       3   \n",
       "3            4         1       1   \n",
       "4            5         0       3   \n",
       "\n",
       "                                                Name  Sex   Age  SibSp  Parch  \\\n",
       "0                            Braund, Mr. Owen Harris    0  22.0      1      0   \n",
       "1  Cumings, Mrs. John Bradley (Florence Briggs Th...    1  38.0      1      0   \n",
       "2                             Heikkinen, Miss. Laina    1  26.0      0      0   \n",
       "3       Futrelle, Mrs. Jacques Heath (Lily May Peel)    1  35.0      1      0   \n",
       "4                           Allen, Mr. William Henry    0  35.0      0      0   \n",
       "\n",
       "             Ticket     Fare Cabin  Embarked  \n",
       "0         A/5 21171   7.2500   NaN       1.0  \n",
       "1          PC 17599  71.2833   C85       2.0  \n",
       "2  STON/O2. 3101282   7.9250   NaN       1.0  \n",
       "3            113803  53.1000  C123       1.0  \n",
       "4            373450   8.0500   NaN       1.0  "
      ]
     },
     "execution_count": 9,
     "metadata": {},
     "output_type": "execute_result"
    }
   ],
   "source": [
    "df.head()"
   ]
  },
  {
   "cell_type": "markdown",
   "metadata": {
    "colab_type": "text",
    "id": "SePud3vrG6z-"
   },
   "source": [
    "Let's visualize our data bit and see number of peopled that died for each ticket class"
   ]
  },
  {
   "cell_type": "code",
   "execution_count": 10,
   "metadata": {
    "colab": {
     "base_uri": "https://localhost:8080/",
     "height": 282
    },
    "colab_type": "code",
    "id": "UkMa-0NWpgKj",
    "outputId": "9922fade-7746-43db-f3cd-94daa4cb37a9"
   },
   "outputs": [
    {
     "data": {
      "text/plain": [
       "<matplotlib.axes._subplots.AxesSubplot at 0x1bbedee08d0>"
      ]
     },
     "execution_count": 10,
     "metadata": {},
     "output_type": "execute_result"
    }
   ],
   "source": [
    "df['Pclass'][df['Survived']==0].hist()"
   ]
  },
  {
   "cell_type": "markdown",
   "metadata": {
    "colab_type": "text",
    "id": "VlMaTAzSMuCA"
   },
   "source": [
    "## Data Cleaning/PreProcessing"
   ]
  },
  {
   "cell_type": "markdown",
   "metadata": {
    "colab_type": "text",
    "id": "p70X6qFqnDwg"
   },
   "source": [
    "Before we contiune let us do some preprocessing on our data. Preprocessing is the process a data scientist or ML engineer goes through to make sure the data is clean and ready for the model. One example is checking to see if there are any null values in any of the columns and replacing them. Let's see if the Age column has any."
   ]
  },
  {
   "cell_type": "code",
   "execution_count": 39,
   "metadata": {
    "colab": {
     "base_uri": "https://localhost:8080/",
     "height": 34
    },
    "colab_type": "code",
    "id": "MXAiypF4cSv1",
    "outputId": "7575b505-eded-4ea0-d61b-4f5d3b9788ca"
   },
   "outputs": [
    {
     "data": {
      "text/plain": [
       "177"
      ]
     },
     "execution_count": 39,
     "metadata": {},
     "output_type": "execute_result"
    }
   ],
   "source": [
    "df['Age'].isnull().sum()"
   ]
  },
  {
   "cell_type": "markdown",
   "metadata": {
    "colab_type": "text",
    "id": "3qvwGzgRIduG"
   },
   "source": [
    "It does so lets us fill those will the median value for age"
   ]
  },
  {
   "cell_type": "code",
   "execution_count": 40,
   "metadata": {
    "colab": {},
    "colab_type": "code",
    "id": "9adC1tipmyMf"
   },
   "outputs": [],
   "source": [
    "df['Age'] = df['Age'].fillna(df['Age'].median())"
   ]
  },
  {
   "cell_type": "markdown",
   "metadata": {
    "colab_type": "text",
    "id": "hkBM8F3yDyHE"
   },
   "source": [
    "Here we are normalizing the age column by subtracting the mean and dividing by the standard deviation to keep values small"
   ]
  },
  {
   "cell_type": "code",
   "execution_count": 41,
   "metadata": {
    "colab": {},
    "colab_type": "code",
    "id": "BHFKFs-sQjM5"
   },
   "outputs": [],
   "source": [
    "df['Age'] = (df['Age']-df['Age'].mean())/df['Age'].std()"
   ]
  },
  {
   "cell_type": "markdown",
   "metadata": {
    "colab_type": "text",
    "id": "at_hWSVhJS2C"
   },
   "source": [
    "Let's see how that columns looks now"
   ]
  },
  {
   "cell_type": "code",
   "execution_count": 42,
   "metadata": {
    "colab": {},
    "colab_type": "code",
    "id": "sI57ptfPIH6e"
   },
   "outputs": [
    {
     "data": {
      "text/plain": [
       "0     -0.565419\n",
       "1      0.663488\n",
       "2     -0.258192\n",
       "3      0.433068\n",
       "4      0.433068\n",
       "         ...   \n",
       "886   -0.181385\n",
       "887   -0.795839\n",
       "888   -0.104579\n",
       "889   -0.258192\n",
       "890    0.202648\n",
       "Name: Age, Length: 891, dtype: float64"
      ]
     },
     "execution_count": 42,
     "metadata": {},
     "output_type": "execute_result"
    }
   ],
   "source": [
    "df['Age']"
   ]
  },
  {
   "cell_type": "markdown",
   "metadata": {
    "colab_type": "text",
    "id": "xSsLKk4zEvuW"
   },
   "source": [
    "Try to do the same for the fare column"
   ]
  },
  {
   "cell_type": "code",
   "execution_count": 43,
   "metadata": {
    "colab": {},
    "colab_type": "code",
    "id": "cH0OYwGlIgZ6"
   },
   "outputs": [],
   "source": [
    "df['Fare'] = (df['Fare']-df['Fare'].mean())/df['Fare'].std()"
   ]
  },
  {
   "cell_type": "markdown",
   "metadata": {
    "colab_type": "text",
    "id": "YR5r_r6VJV9f"
   },
   "source": [
    "Let's see how the far column looks now"
   ]
  },
  {
   "cell_type": "code",
   "execution_count": 44,
   "metadata": {
    "colab": {},
    "colab_type": "code",
    "id": "N2bbflM7IKfC"
   },
   "outputs": [
    {
     "data": {
      "text/plain": [
       "0     -0.502163\n",
       "1      0.786404\n",
       "2     -0.488580\n",
       "3      0.420494\n",
       "4     -0.486064\n",
       "         ...   \n",
       "886   -0.386454\n",
       "887   -0.044356\n",
       "888   -0.176164\n",
       "889   -0.044356\n",
       "890   -0.492101\n",
       "Name: Fare, Length: 891, dtype: float64"
      ]
     },
     "execution_count": 44,
     "metadata": {},
     "output_type": "execute_result"
    }
   ],
   "source": [
    "df['Fare']"
   ]
  },
  {
   "cell_type": "markdown",
   "metadata": {
    "colab_type": "text",
    "id": "FAPZIecpM1rj"
   },
   "source": [
    "## Feature Engineering"
   ]
  },
  {
   "cell_type": "markdown",
   "metadata": {
    "colab_type": "text",
    "id": "Z7lELUrsYvWq"
   },
   "source": [
    "Now Time to do some feature engineering. Extract values from columns you can use as features(hint try to use numerical columns). Store it an variable called X."
   ]
  },
  {
   "cell_type": "code",
   "execution_count": 45,
   "metadata": {
    "colab": {},
    "colab_type": "code",
    "id": "pgJ4Ik2HKPnQ"
   },
   "outputs": [],
   "source": [
    "X = df[['Age', 'Parch', 'SibSp', 'Fare', 'Pclass', 'Sex', 'Embarked']].values"
   ]
  },
  {
   "cell_type": "markdown",
   "metadata": {
    "colab_type": "text",
    "id": "Chb_URSiEWIt"
   },
   "source": [
    "Let's see how our input data looks"
   ]
  },
  {
   "cell_type": "code",
   "execution_count": 46,
   "metadata": {
    "colab": {
     "base_uri": "https://localhost:8080/",
     "height": 238
    },
    "colab_type": "code",
    "id": "afj-TxpVLegp",
    "outputId": "d9af30d2-53d6-4786-9450-79bace490931"
   },
   "outputs": [
    {
     "data": {
      "text/plain": [
       "array([[-0.5654189 ,  0.        ,  1.        , -0.50216314,  3.        ,\n",
       "         0.        ],\n",
       "       [ 0.66348839,  0.        ,  1.        ,  0.78640362,  1.        ,\n",
       "         1.        ],\n",
       "       [-0.25819208,  0.        ,  0.        , -0.48857985,  3.        ,\n",
       "         1.        ],\n",
       "       ...,\n",
       "       [-0.10457867,  2.        ,  1.        , -0.1761643 ,  3.        ,\n",
       "         1.        ],\n",
       "       [-0.25819208,  0.        ,  0.        , -0.04435613,  1.        ,\n",
       "         0.        ],\n",
       "       [ 0.20264816,  0.        ,  0.        , -0.49210144,  3.        ,\n",
       "         0.        ]])"
      ]
     },
     "execution_count": 46,
     "metadata": {},
     "output_type": "execute_result"
    }
   ],
   "source": [
    "X"
   ]
  },
  {
   "cell_type": "markdown",
   "metadata": {
    "colab_type": "text",
    "id": "1x3ieOgWLVMG"
   },
   "source": [
    "Extract the labels (Survived column) into Y"
   ]
  },
  {
   "cell_type": "code",
   "execution_count": 47,
   "metadata": {
    "colab": {},
    "colab_type": "code",
    "id": "dH_lS3XUYI8L"
   },
   "outputs": [],
   "source": [
    "Y = df['Survived'].values"
   ]
  },
  {
   "cell_type": "markdown",
   "metadata": {
    "colab_type": "text",
    "id": "EfmzubpIEhkM"
   },
   "source": [
    "Let's see how our labels look"
   ]
  },
  {
   "cell_type": "code",
   "execution_count": 48,
   "metadata": {
    "colab": {
     "base_uri": "https://localhost:8080/",
     "height": 714
    },
    "colab_type": "code",
    "id": "gLgZPXwIYeCz",
    "outputId": "149c10c0-b4e7-44ec-b625-026ae33b4d68"
   },
   "outputs": [
    {
     "data": {
      "text/plain": [
       "array([0, 1, 1, 1, 0, 0, 0, 0, 1, 1, 1, 1, 0, 0, 0, 1, 0, 1, 0, 1, 0, 1,\n",
       "       1, 1, 0, 1, 0, 0, 1, 0, 0, 1, 1, 0, 0, 0, 1, 0, 0, 1, 0, 0, 0, 1,\n",
       "       1, 0, 0, 1, 0, 0, 0, 0, 1, 1, 0, 1, 1, 0, 1, 0, 0, 1, 0, 0, 0, 1,\n",
       "       1, 0, 1, 0, 0, 0, 0, 0, 1, 0, 0, 0, 1, 1, 0, 1, 1, 0, 1, 1, 0, 0,\n",
       "       1, 0, 0, 0, 0, 0, 0, 0, 0, 1, 1, 0, 0, 0, 0, 0, 0, 0, 1, 1, 0, 1,\n",
       "       0, 0, 0, 0, 0, 0, 0, 0, 0, 0, 0, 0, 0, 1, 0, 1, 0, 1, 1, 0, 0, 0,\n",
       "       0, 1, 0, 0, 1, 0, 0, 0, 0, 1, 1, 0, 0, 0, 1, 0, 0, 0, 0, 1, 0, 0,\n",
       "       0, 0, 1, 0, 0, 0, 0, 1, 0, 0, 0, 1, 1, 0, 0, 0, 0, 0, 1, 0, 0, 0,\n",
       "       0, 0, 0, 0, 0, 0, 0, 1, 1, 0, 1, 1, 0, 0, 1, 0, 1, 1, 1, 1, 0, 0,\n",
       "       1, 0, 0, 0, 0, 0, 1, 0, 0, 1, 1, 1, 0, 1, 0, 0, 0, 1, 1, 0, 1, 0,\n",
       "       1, 0, 0, 0, 1, 0, 1, 0, 0, 0, 1, 0, 0, 1, 0, 0, 0, 1, 0, 0, 0, 1,\n",
       "       0, 0, 0, 0, 0, 1, 1, 0, 0, 0, 0, 0, 0, 1, 1, 1, 1, 1, 0, 1, 0, 0,\n",
       "       0, 0, 0, 1, 1, 1, 0, 1, 1, 0, 1, 1, 0, 0, 0, 1, 0, 0, 0, 1, 0, 0,\n",
       "       1, 0, 1, 1, 1, 1, 0, 0, 0, 0, 0, 0, 1, 1, 1, 1, 0, 1, 0, 1, 1, 1,\n",
       "       0, 1, 1, 1, 0, 0, 0, 1, 1, 0, 1, 1, 0, 0, 1, 1, 0, 1, 0, 1, 1, 1,\n",
       "       1, 0, 0, 0, 1, 0, 0, 1, 1, 0, 1, 1, 0, 0, 0, 1, 1, 1, 1, 0, 0, 0,\n",
       "       0, 0, 0, 0, 1, 0, 1, 1, 0, 0, 0, 0, 0, 0, 1, 1, 1, 1, 1, 0, 0, 0,\n",
       "       0, 1, 1, 0, 0, 0, 1, 1, 0, 1, 0, 0, 0, 1, 0, 1, 1, 1, 0, 1, 1, 0,\n",
       "       0, 0, 0, 1, 1, 0, 0, 0, 0, 0, 0, 1, 0, 0, 0, 0, 1, 0, 1, 0, 1, 1,\n",
       "       0, 0, 0, 0, 0, 0, 0, 0, 1, 1, 0, 1, 1, 1, 1, 0, 0, 1, 0, 1, 0, 0,\n",
       "       1, 0, 0, 1, 1, 1, 1, 1, 1, 1, 0, 0, 0, 1, 0, 1, 0, 1, 1, 0, 1, 0,\n",
       "       0, 0, 0, 0, 0, 0, 0, 1, 0, 0, 1, 1, 0, 0, 0, 0, 0, 1, 0, 0, 0, 1,\n",
       "       1, 0, 1, 0, 0, 1, 0, 0, 0, 0, 0, 0, 1, 0, 0, 0, 0, 0, 0, 0, 1, 0,\n",
       "       1, 1, 0, 1, 1, 0, 1, 1, 0, 0, 1, 0, 1, 0, 1, 0, 0, 1, 0, 0, 1, 0,\n",
       "       0, 0, 1, 0, 0, 1, 0, 1, 0, 1, 0, 1, 1, 0, 0, 1, 0, 0, 1, 1, 0, 1,\n",
       "       1, 0, 0, 1, 1, 0, 1, 0, 1, 1, 0, 0, 0, 0, 0, 0, 0, 0, 0, 1, 1, 1,\n",
       "       1, 1, 0, 0, 1, 1, 0, 1, 1, 1, 0, 0, 0, 1, 0, 1, 0, 0, 0, 1, 0, 0,\n",
       "       0, 0, 1, 0, 0, 1, 1, 0, 0, 0, 1, 0, 0, 1, 1, 1, 0, 0, 1, 0, 0, 1,\n",
       "       0, 0, 1, 0, 0, 1, 1, 0, 0, 0, 0, 1, 0, 0, 1, 0, 1, 0, 0, 1, 0, 0,\n",
       "       0, 0, 0, 1, 0, 1, 1, 1, 0, 1, 0, 1, 0, 1, 0, 1, 0, 0, 0, 0, 0, 0,\n",
       "       1, 0, 0, 0, 1, 0, 0, 0, 0, 1, 1, 0, 0, 1, 0, 0, 0, 1, 0, 1, 0, 1,\n",
       "       0, 0, 0, 0, 0, 0, 0, 1, 1, 1, 1, 0, 0, 0, 0, 1, 0, 0, 1, 1, 0, 0,\n",
       "       0, 0, 1, 1, 1, 1, 1, 0, 1, 0, 0, 0, 1, 1, 0, 0, 1, 0, 0, 0, 1, 0,\n",
       "       1, 1, 0, 0, 1, 0, 0, 0, 0, 0, 0, 1, 0, 0, 1, 0, 1, 0, 1, 0, 0, 1,\n",
       "       0, 0, 1, 1, 0, 0, 1, 1, 0, 0, 0, 1, 0, 0, 1, 1, 0, 1, 0, 0, 0, 0,\n",
       "       0, 0, 0, 0, 1, 0, 0, 1, 0, 1, 1, 1, 0, 0, 0, 0, 1, 0, 1, 0, 0, 0,\n",
       "       0, 0, 0, 0, 1, 1, 0, 0, 0, 1, 1, 1, 1, 0, 0, 0, 0, 1, 0, 0, 0, 0,\n",
       "       0, 0, 0, 0, 0, 0, 1, 1, 0, 1, 0, 0, 0, 1, 1, 1, 1, 1, 0, 0, 0, 1,\n",
       "       0, 0, 1, 1, 0, 0, 1, 0, 0, 0, 0, 0, 0, 1, 0, 0, 0, 1, 0, 1, 1, 1,\n",
       "       1, 0, 0, 0, 1, 0, 0, 1, 1, 0, 0, 1, 0, 1, 0, 0, 1, 1, 0, 0, 0, 1,\n",
       "       1, 0, 0, 0, 0, 0, 0, 1, 0, 1, 0], dtype=int64)"
      ]
     },
     "execution_count": 48,
     "metadata": {},
     "output_type": "execute_result"
    }
   ],
   "source": [
    "Y"
   ]
  },
  {
   "cell_type": "markdown",
   "metadata": {
    "colab_type": "text",
    "id": "Guf5v1CGMwof"
   },
   "source": [
    "Let's spilt our dataset into train and test (X_train, X_test, y_train, y_test).Use the train_test_split function from sklearn. Use 30% of the data for test"
   ]
  },
  {
   "cell_type": "code",
   "execution_count": 49,
   "metadata": {
    "colab": {},
    "colab_type": "code",
    "id": "-VvnER4hYekI"
   },
   "outputs": [],
   "source": [
    "seed = 5\n",
    "X_train, X_test, y_train, y_test = train_test_split(X, Y, test_size = 0.3, random_state = seed)"
   ]
  },
  {
   "cell_type": "markdown",
   "metadata": {
    "colab_type": "text",
    "id": "PVWHKIzNJiHZ"
   },
   "source": [
    "Let us view the shape of the train data. The first number represents how many rows, the second represents how many columns or features."
   ]
  },
  {
   "cell_type": "code",
   "execution_count": 50,
   "metadata": {
    "colab": {
     "base_uri": "https://localhost:8080/",
     "height": 34
    },
    "colab_type": "code",
    "id": "kwFSyX0NNUyM",
    "outputId": "de9980b3-799f-4dde-e80d-3211d12541ca"
   },
   "outputs": [
    {
     "data": {
      "text/plain": [
       "(623, 6)"
      ]
     },
     "execution_count": 50,
     "metadata": {},
     "output_type": "execute_result"
    }
   ],
   "source": [
    "X_train.shape"
   ]
  },
  {
   "cell_type": "markdown",
   "metadata": {
    "colab_type": "text",
    "id": "qSp7NFK2JxqH"
   },
   "source": [
    "Let us do the same for the test data"
   ]
  },
  {
   "cell_type": "code",
   "execution_count": 51,
   "metadata": {
    "colab": {
     "base_uri": "https://localhost:8080/",
     "height": 34
    },
    "colab_type": "code",
    "id": "-zCv7oHDNWO2",
    "outputId": "74563a20-e783-4b6e-c31e-e21abd976521"
   },
   "outputs": [
    {
     "data": {
      "text/plain": [
       "(268, 6)"
      ]
     },
     "execution_count": 51,
     "metadata": {},
     "output_type": "execute_result"
    }
   ],
   "source": [
    "X_test.shape"
   ]
  },
  {
   "cell_type": "markdown",
   "metadata": {
    "colab_type": "text",
    "id": "iOeNCoGNMQRU"
   },
   "source": [
    "## Logistic Regression"
   ]
  },
  {
   "cell_type": "markdown",
   "metadata": {
    "colab_type": "text",
    "id": "ao1HjEmNNqnf"
   },
   "source": [
    "Let us create a model and fit the model to the train dataset.Let us use the LogisticRegression model from sklearn."
   ]
  },
  {
   "cell_type": "code",
   "execution_count": 52,
   "metadata": {
    "colab": {},
    "colab_type": "code",
    "id": "-dOF_vVzNYdb"
   },
   "outputs": [
    {
     "data": {
      "text/plain": [
       "LogisticRegression(C=1.0, class_weight=None, dual=False, fit_intercept=True,\n",
       "                   intercept_scaling=1, l1_ratio=None, max_iter=100,\n",
       "                   multi_class='ovr', n_jobs=None, penalty='l2',\n",
       "                   random_state=None, solver='lbfgs', tol=0.0001, verbose=0,\n",
       "                   warm_start=False)"
      ]
     },
     "execution_count": 52,
     "metadata": {},
     "output_type": "execute_result"
    }
   ],
   "source": [
    "model = LogisticRegression(C=1.0, solver='lbfgs', multi_class='ovr')\n",
    "model.fit(X_train, y_train)"
   ]
  },
  {
   "cell_type": "markdown",
   "metadata": {
    "colab_type": "text",
    "id": "3KNZcbH3OT9Z"
   },
   "source": [
    "Let's test the model. (Call the predict function on the model save the output in a variable)"
   ]
  },
  {
   "cell_type": "code",
   "execution_count": 53,
   "metadata": {
    "colab": {},
    "colab_type": "code",
    "id": "3Blc0nrpOTSA"
   },
   "outputs": [],
   "source": [
    "Pred = model.predict(X_test)"
   ]
  },
  {
   "cell_type": "markdown",
   "metadata": {
    "colab_type": "text",
    "id": "3TcK60OPOxBU"
   },
   "source": [
    "Let us evaluate the accuracy of the model. Try using the accuracy score function from sklearn"
   ]
  },
  {
   "cell_type": "code",
   "execution_count": 54,
   "metadata": {
    "colab": {},
    "colab_type": "code",
    "id": "z6o406XLPY30",
    "scrolled": true
   },
   "outputs": [
    {
     "data": {
      "text/plain": [
       "0.8097014925373134"
      ]
     },
     "execution_count": 54,
     "metadata": {},
     "output_type": "execute_result"
    }
   ],
   "source": [
    "accuracy_score(y_test, Pred)"
   ]
  },
  {
   "cell_type": "markdown",
   "metadata": {
    "colab_type": "text",
    "id": "6J-7ZtWcMTfZ"
   },
   "source": [
    "## Neural Network"
   ]
  },
  {
   "cell_type": "markdown",
   "metadata": {
    "colab_type": "text",
    "id": "jsm00GdNQcix"
   },
   "source": [
    "Now let's try the same with a neural network. We will create a small neural network with some hidden layers and an output layer. (Note you are free to design this yourself). The network should output one value (try using sigmoid activation for last layer)."
   ]
  },
  {
   "cell_type": "code",
   "execution_count": 55,
   "metadata": {
    "colab": {},
    "colab_type": "code",
    "id": "D9TWVUFWPhn5"
   },
   "outputs": [],
   "source": [
    "model = Sequential()\n",
    "model.add(Dense(48, input_dim = 7, activation = 'relu'))\n",
    "model.add(Dense(64, activation = 'relu'))\n",
    "model.add(Dense(1, activation = 'sigmoid'))\n",
    "\n",
    "model.compile(loss = 'binary_crossentropy', optimizer = 'adam', metrics = ['accuracy'])"
   ]
  },
  {
   "cell_type": "markdown",
   "metadata": {
    "colab_type": "text",
    "id": "kYUDSIR6G7HA"
   },
   "source": [
    "Now let us fit our model.Remeber to use the test data created from above as the validation data."
   ]
  },
  {
   "cell_type": "code",
   "execution_count": 56,
   "metadata": {
    "colab": {
     "base_uri": "https://localhost:8080/",
     "height": 1000
    },
    "colab_type": "code",
    "id": "6cROpajaYsd5",
    "outputId": "90a535e7-51e1-452f-c950-7b5c4070f4b7"
   },
   "outputs": [
    {
     "name": "stdout",
     "output_type": "stream",
     "text": [
      "Epoch 1/150\n",
      "268/268 [==============================] - 0s 739us/step - loss: 0.6496 - accuracy: 0.6157\n",
      "Epoch 2/150\n",
      "268/268 [==============================] - 0s 264us/step - loss: 0.5673 - accuracy: 0.7127\n",
      "Epoch 3/150\n",
      "268/268 [==============================] - 0s 260us/step - loss: 0.5172 - accuracy: 0.7649\n",
      "Epoch 4/150\n",
      "268/268 [==============================] - 0s 263us/step - loss: 0.4757 - accuracy: 0.7910\n",
      "Epoch 5/150\n",
      "268/268 [==============================] - 0s 281us/step - loss: 0.4457 - accuracy: 0.8134\n",
      "Epoch 6/150\n",
      "268/268 [==============================] - 0s 298us/step - loss: 0.4214 - accuracy: 0.8246\n",
      "Epoch 7/150\n",
      "268/268 [==============================] - 0s 327us/step - loss: 0.4100 - accuracy: 0.8246\n",
      "Epoch 8/150\n",
      "268/268 [==============================] - 0s 249us/step - loss: 0.4044 - accuracy: 0.8246\n",
      "Epoch 9/150\n",
      "268/268 [==============================] - 0s 268us/step - loss: 0.4044 - accuracy: 0.8209\n",
      "Epoch 10/150\n",
      "268/268 [==============================] - 0s 279us/step - loss: 0.4000 - accuracy: 0.8284\n",
      "Epoch 11/150\n",
      "268/268 [==============================] - 0s 275us/step - loss: 0.3948 - accuracy: 0.8284\n",
      "Epoch 12/150\n",
      "268/268 [==============================] - 0s 253us/step - loss: 0.3914 - accuracy: 0.8284\n",
      "Epoch 13/150\n",
      "268/268 [==============================] - 0s 264us/step - loss: 0.3988 - accuracy: 0.8396\n",
      "Epoch 14/150\n",
      "268/268 [==============================] - 0s 287us/step - loss: 0.3870 - accuracy: 0.8284\n",
      "Epoch 15/150\n",
      "268/268 [==============================] - 0s 316us/step - loss: 0.3859 - accuracy: 0.8321\n",
      "Epoch 16/150\n",
      "268/268 [==============================] - 0s 242us/step - loss: 0.3787 - accuracy: 0.8321\n",
      "Epoch 17/150\n",
      "268/268 [==============================] - 0s 279us/step - loss: 0.3794 - accuracy: 0.8321\n",
      "Epoch 18/150\n",
      "268/268 [==============================] - 0s 257us/step - loss: 0.3822 - accuracy: 0.8284\n",
      "Epoch 19/150\n",
      "268/268 [==============================] - 0s 257us/step - loss: 0.3799 - accuracy: 0.8172\n",
      "Epoch 20/150\n",
      "268/268 [==============================] - 0s 327us/step - loss: 0.3741 - accuracy: 0.8358\n",
      "Epoch 21/150\n",
      "268/268 [==============================] - 0s 257us/step - loss: 0.3696 - accuracy: 0.8284\n",
      "Epoch 22/150\n",
      "268/268 [==============================] - 0s 279us/step - loss: 0.3683 - accuracy: 0.8358\n",
      "Epoch 23/150\n",
      "268/268 [==============================] - 0s 257us/step - loss: 0.3696 - accuracy: 0.8321\n",
      "Epoch 24/150\n",
      "268/268 [==============================] - 0s 272us/step - loss: 0.3648 - accuracy: 0.8321\n",
      "Epoch 25/150\n",
      "268/268 [==============================] - 0s 268us/step - loss: 0.3660 - accuracy: 0.8396\n",
      "Epoch 26/150\n",
      "268/268 [==============================] - 0s 324us/step - loss: 0.3615 - accuracy: 0.8358\n",
      "Epoch 27/150\n",
      "268/268 [==============================] - 0s 253us/step - loss: 0.3608 - accuracy: 0.8321\n",
      "Epoch 28/150\n",
      "268/268 [==============================] - 0s 253us/step - loss: 0.3657 - accuracy: 0.8321\n",
      "Epoch 29/150\n",
      "268/268 [==============================] - 0s 309us/step - loss: 0.3587 - accuracy: 0.8321\n",
      "Epoch 30/150\n",
      "268/268 [==============================] - 0s 220us/step - loss: 0.3580 - accuracy: 0.8358\n",
      "Epoch 31/150\n",
      "268/268 [==============================] - 0s 253us/step - loss: 0.3556 - accuracy: 0.8396\n",
      "Epoch 32/150\n",
      "268/268 [==============================] - 0s 279us/step - loss: 0.3517 - accuracy: 0.8396\n",
      "Epoch 33/150\n",
      "268/268 [==============================] - 0s 327us/step - loss: 0.3489 - accuracy: 0.8321\n",
      "Epoch 34/150\n",
      "268/268 [==============================] - 0s 261us/step - loss: 0.3525 - accuracy: 0.8396\n",
      "Epoch 35/150\n",
      "268/268 [==============================] - 0s 264us/step - loss: 0.3531 - accuracy: 0.8470\n",
      "Epoch 36/150\n",
      "268/268 [==============================] - 0s 253us/step - loss: 0.3472 - accuracy: 0.8358\n",
      "Epoch 37/150\n",
      "268/268 [==============================] - 0s 272us/step - loss: 0.3471 - accuracy: 0.8433\n",
      "Epoch 38/150\n",
      "268/268 [==============================] - 0s 260us/step - loss: 0.3450 - accuracy: 0.8470\n",
      "Epoch 39/150\n",
      "268/268 [==============================] - 0s 346us/step - loss: 0.3443 - accuracy: 0.8470\n",
      "Epoch 40/150\n",
      "268/268 [==============================] - 0s 238us/step - loss: 0.3403 - accuracy: 0.8433\n",
      "Epoch 41/150\n",
      "268/268 [==============================] - 0s 368us/step - loss: 0.3416 - accuracy: 0.8433\n",
      "Epoch 42/150\n",
      "268/268 [==============================] - 0s 223us/step - loss: 0.3388 - accuracy: 0.8321\n",
      "Epoch 43/150\n",
      "268/268 [==============================] - 0s 264us/step - loss: 0.3389 - accuracy: 0.8433\n",
      "Epoch 44/150\n",
      "268/268 [==============================] - 0s 272us/step - loss: 0.3407 - accuracy: 0.8619\n",
      "Epoch 45/150\n",
      "268/268 [==============================] - 0s 283us/step - loss: 0.3353 - accuracy: 0.8396\n",
      "Epoch 46/150\n",
      "268/268 [==============================] - 0s 324us/step - loss: 0.3378 - accuracy: 0.8694\n",
      "Epoch 47/150\n",
      "268/268 [==============================] - 0s 309us/step - loss: 0.3349 - accuracy: 0.8433\n",
      "Epoch 48/150\n",
      "268/268 [==============================] - 0s 287us/step - loss: 0.3323 - accuracy: 0.8470\n",
      "Epoch 49/150\n",
      "268/268 [==============================] - 0s 223us/step - loss: 0.3294 - accuracy: 0.8470\n",
      "Epoch 50/150\n",
      "268/268 [==============================] - 0s 469us/step - loss: 0.3325 - accuracy: 0.8619\n",
      "Epoch 51/150\n",
      "268/268 [==============================] - 0s 439us/step - loss: 0.3320 - accuracy: 0.8545\n",
      "Epoch 52/150\n",
      "268/268 [==============================] - 0s 339us/step - loss: 0.3290 - accuracy: 0.8470\n",
      "Epoch 53/150\n",
      "268/268 [==============================] - 0s 223us/step - loss: 0.3279 - accuracy: 0.8507\n",
      "Epoch 54/150\n",
      "268/268 [==============================] - 0s 227us/step - loss: 0.3222 - accuracy: 0.8470\n",
      "Epoch 55/150\n",
      "268/268 [==============================] - 0s 186us/step - loss: 0.3246 - accuracy: 0.8545\n",
      "Epoch 56/150\n",
      "268/268 [==============================] - 0s 182us/step - loss: 0.3249 - accuracy: 0.8619\n",
      "Epoch 57/150\n",
      "268/268 [==============================] - 0s 160us/step - loss: 0.3258 - accuracy: 0.8507\n",
      "Epoch 58/150\n",
      "268/268 [==============================] - 0s 164us/step - loss: 0.3243 - accuracy: 0.8582\n",
      "Epoch 59/150\n",
      "268/268 [==============================] - 0s 156us/step - loss: 0.3198 - accuracy: 0.8619\n",
      "Epoch 60/150\n",
      "268/268 [==============================] - 0s 156us/step - loss: 0.3218 - accuracy: 0.8769\n",
      "Epoch 61/150\n",
      "268/268 [==============================] - 0s 179us/step - loss: 0.3226 - accuracy: 0.8433\n",
      "Epoch 62/150\n",
      "268/268 [==============================] - 0s 190us/step - loss: 0.3189 - accuracy: 0.8582\n",
      "Epoch 63/150\n",
      "268/268 [==============================] - 0s 160us/step - loss: 0.3170 - accuracy: 0.8731\n",
      "Epoch 64/150\n",
      "268/268 [==============================] - 0s 160us/step - loss: 0.3130 - accuracy: 0.8657\n",
      "Epoch 65/150\n",
      "268/268 [==============================] - 0s 182us/step - loss: 0.3124 - accuracy: 0.8657\n",
      "Epoch 66/150\n",
      "268/268 [==============================] - 0s 182us/step - loss: 0.3107 - accuracy: 0.8769\n",
      "Epoch 67/150\n",
      "268/268 [==============================] - 0s 182us/step - loss: 0.3143 - accuracy: 0.8657\n",
      "Epoch 68/150\n",
      "268/268 [==============================] - 0s 171us/step - loss: 0.3137 - accuracy: 0.8582\n",
      "Epoch 69/150\n",
      "268/268 [==============================] - 0s 179us/step - loss: 0.3156 - accuracy: 0.8545\n",
      "Epoch 70/150\n",
      "268/268 [==============================] - 0s 201us/step - loss: 0.3126 - accuracy: 0.8694\n",
      "Epoch 71/150\n",
      "268/268 [==============================] - 0s 164us/step - loss: 0.3122 - accuracy: 0.8769\n",
      "Epoch 72/150\n",
      "268/268 [==============================] - 0s 167us/step - loss: 0.3077 - accuracy: 0.8731\n",
      "Epoch 73/150\n",
      "268/268 [==============================] - 0s 197us/step - loss: 0.3079 - accuracy: 0.8769\n",
      "Epoch 74/150\n",
      "268/268 [==============================] - 0s 171us/step - loss: 0.3029 - accuracy: 0.8843\n",
      "Epoch 75/150\n",
      "268/268 [==============================] - 0s 164us/step - loss: 0.3064 - accuracy: 0.8657\n",
      "Epoch 76/150\n",
      "268/268 [==============================] - 0s 186us/step - loss: 0.3095 - accuracy: 0.8694\n",
      "Epoch 77/150\n",
      "268/268 [==============================] - 0s 197us/step - loss: 0.3012 - accuracy: 0.8806\n",
      "Epoch 78/150\n",
      "268/268 [==============================] - 0s 171us/step - loss: 0.3038 - accuracy: 0.8731\n",
      "Epoch 79/150\n",
      "268/268 [==============================] - 0s 175us/step - loss: 0.2991 - accuracy: 0.8769\n",
      "Epoch 80/150\n",
      "268/268 [==============================] - 0s 167us/step - loss: 0.2985 - accuracy: 0.8731\n",
      "Epoch 81/150\n",
      "268/268 [==============================] - 0s 153us/step - loss: 0.3057 - accuracy: 0.8694\n",
      "Epoch 82/150\n",
      "268/268 [==============================] - 0s 227us/step - loss: 0.2940 - accuracy: 0.8806\n",
      "Epoch 83/150\n",
      "268/268 [==============================] - 0s 179us/step - loss: 0.2940 - accuracy: 0.8806\n",
      "Epoch 84/150\n",
      "268/268 [==============================] - 0s 149us/step - loss: 0.2940 - accuracy: 0.8843\n",
      "Epoch 85/150\n",
      "268/268 [==============================] - 0s 287us/step - loss: 0.2929 - accuracy: 0.8843\n",
      "Epoch 86/150\n",
      "268/268 [==============================] - 0s 350us/step - loss: 0.2920 - accuracy: 0.8731\n",
      "Epoch 87/150\n",
      "268/268 [==============================] - 0s 327us/step - loss: 0.2895 - accuracy: 0.8806\n",
      "Epoch 88/150\n",
      "268/268 [==============================] - 0s 320us/step - loss: 0.2888 - accuracy: 0.8806\n",
      "Epoch 89/150\n",
      "268/268 [==============================] - 0s 186us/step - loss: 0.2873 - accuracy: 0.8881\n",
      "Epoch 90/150\n",
      "268/268 [==============================] - 0s 164us/step - loss: 0.2876 - accuracy: 0.8843\n",
      "Epoch 91/150\n",
      "268/268 [==============================] - 0s 153us/step - loss: 0.2869 - accuracy: 0.8843\n",
      "Epoch 92/150\n",
      "268/268 [==============================] - 0s 175us/step - loss: 0.2835 - accuracy: 0.8881\n",
      "Epoch 93/150\n",
      "268/268 [==============================] - 0s 175us/step - loss: 0.2858 - accuracy: 0.8694\n",
      "Epoch 94/150\n",
      "268/268 [==============================] - 0s 175us/step - loss: 0.2824 - accuracy: 0.8843\n",
      "Epoch 95/150\n",
      "268/268 [==============================] - 0s 186us/step - loss: 0.2830 - accuracy: 0.8769\n",
      "Epoch 96/150\n",
      "268/268 [==============================] - 0s 175us/step - loss: 0.2801 - accuracy: 0.8955\n",
      "Epoch 97/150\n",
      "268/268 [==============================] - 0s 175us/step - loss: 0.2842 - accuracy: 0.8843\n",
      "Epoch 98/150\n",
      "268/268 [==============================] - 0s 175us/step - loss: 0.2877 - accuracy: 0.8918\n",
      "Epoch 99/150\n",
      "268/268 [==============================] - 0s 182us/step - loss: 0.2779 - accuracy: 0.8843\n",
      "Epoch 100/150\n",
      "268/268 [==============================] - 0s 179us/step - loss: 0.2751 - accuracy: 0.8918\n",
      "Epoch 101/150\n",
      "268/268 [==============================] - 0s 190us/step - loss: 0.2795 - accuracy: 0.8806\n",
      "Epoch 102/150\n",
      "268/268 [==============================] - 0s 164us/step - loss: 0.2851 - accuracy: 0.8731\n",
      "Epoch 103/150\n",
      "268/268 [==============================] - 0s 171us/step - loss: 0.2760 - accuracy: 0.8843\n",
      "Epoch 104/150\n",
      "268/268 [==============================] - 0s 171us/step - loss: 0.2756 - accuracy: 0.8881\n",
      "Epoch 105/150\n",
      "268/268 [==============================] - 0s 164us/step - loss: 0.2844 - accuracy: 0.8843\n",
      "Epoch 106/150\n",
      "268/268 [==============================] - 0s 153us/step - loss: 0.2732 - accuracy: 0.9030\n",
      "Epoch 107/150\n",
      "268/268 [==============================] - 0s 160us/step - loss: 0.2756 - accuracy: 0.8993\n",
      "Epoch 108/150\n",
      "268/268 [==============================] - 0s 167us/step - loss: 0.2671 - accuracy: 0.8918\n",
      "Epoch 109/150\n",
      "268/268 [==============================] - 0s 190us/step - loss: 0.2695 - accuracy: 0.8918\n",
      "Epoch 110/150\n",
      "268/268 [==============================] - 0s 194us/step - loss: 0.2678 - accuracy: 0.8993\n",
      "Epoch 111/150\n",
      "268/268 [==============================] - 0s 186us/step - loss: 0.2704 - accuracy: 0.8806\n",
      "Epoch 112/150\n",
      "268/268 [==============================] - 0s 182us/step - loss: 0.2678 - accuracy: 0.8993\n",
      "Epoch 113/150\n",
      "268/268 [==============================] - 0s 186us/step - loss: 0.2700 - accuracy: 0.9030\n",
      "Epoch 114/150\n",
      "268/268 [==============================] - 0s 186us/step - loss: 0.2635 - accuracy: 0.9030\n",
      "Epoch 115/150\n",
      "268/268 [==============================] - 0s 193us/step - loss: 0.2634 - accuracy: 0.9030\n",
      "Epoch 116/150\n",
      "268/268 [==============================] - 0s 197us/step - loss: 0.2665 - accuracy: 0.9030\n",
      "Epoch 117/150\n",
      "268/268 [==============================] - 0s 160us/step - loss: 0.2610 - accuracy: 0.9030\n",
      "Epoch 118/150\n",
      "268/268 [==============================] - 0s 167us/step - loss: 0.2670 - accuracy: 0.8918\n",
      "Epoch 119/150\n",
      "268/268 [==============================] - 0s 179us/step - loss: 0.2588 - accuracy: 0.9067\n",
      "Epoch 120/150\n",
      "268/268 [==============================] - 0s 175us/step - loss: 0.2628 - accuracy: 0.9067\n",
      "Epoch 121/150\n",
      "268/268 [==============================] - 0s 171us/step - loss: 0.2629 - accuracy: 0.8993\n",
      "Epoch 122/150\n",
      "268/268 [==============================] - 0s 197us/step - loss: 0.2611 - accuracy: 0.9067\n",
      "Epoch 123/150\n",
      "268/268 [==============================] - 0s 164us/step - loss: 0.2641 - accuracy: 0.9067\n",
      "Epoch 124/150\n",
      "268/268 [==============================] - 0s 153us/step - loss: 0.2615 - accuracy: 0.9030\n",
      "Epoch 125/150\n",
      "268/268 [==============================] - 0s 164us/step - loss: 0.2693 - accuracy: 0.8993\n",
      "Epoch 126/150\n",
      "268/268 [==============================] - 0s 160us/step - loss: 0.2665 - accuracy: 0.8993\n",
      "Epoch 127/150\n",
      "268/268 [==============================] - 0s 156us/step - loss: 0.2566 - accuracy: 0.9030\n",
      "Epoch 128/150\n",
      "268/268 [==============================] - 0s 171us/step - loss: 0.2569 - accuracy: 0.9067\n",
      "Epoch 129/150\n",
      "268/268 [==============================] - 0s 197us/step - loss: 0.2693 - accuracy: 0.8881\n",
      "Epoch 130/150\n",
      "268/268 [==============================] - 0s 194us/step - loss: 0.2666 - accuracy: 0.8806\n",
      "Epoch 131/150\n",
      "268/268 [==============================] - 0s 186us/step - loss: 0.2559 - accuracy: 0.9179\n",
      "Epoch 132/150\n",
      "268/268 [==============================] - 0s 186us/step - loss: 0.2582 - accuracy: 0.9067\n",
      "Epoch 133/150\n",
      "268/268 [==============================] - 0s 182us/step - loss: 0.2650 - accuracy: 0.8955\n",
      "Epoch 134/150\n",
      "268/268 [==============================] - 0s 201us/step - loss: 0.2555 - accuracy: 0.8955\n",
      "Epoch 135/150\n",
      "268/268 [==============================] - 0s 167us/step - loss: 0.2511 - accuracy: 0.9067\n",
      "Epoch 136/150\n",
      "268/268 [==============================] - 0s 160us/step - loss: 0.2604 - accuracy: 0.8993\n",
      "Epoch 137/150\n",
      "268/268 [==============================] - 0s 171us/step - loss: 0.2513 - accuracy: 0.9104\n",
      "Epoch 138/150\n",
      "268/268 [==============================] - 0s 164us/step - loss: 0.2579 - accuracy: 0.9067\n",
      "Epoch 139/150\n",
      "268/268 [==============================] - 0s 164us/step - loss: 0.2477 - accuracy: 0.9104\n",
      "Epoch 140/150\n",
      "268/268 [==============================] - 0s 156us/step - loss: 0.2580 - accuracy: 0.9030\n",
      "Epoch 141/150\n",
      "268/268 [==============================] - 0s 164us/step - loss: 0.2500 - accuracy: 0.8993\n",
      "Epoch 142/150\n",
      "268/268 [==============================] - 0s 164us/step - loss: 0.2523 - accuracy: 0.9179\n",
      "Epoch 143/150\n",
      "268/268 [==============================] - 0s 156us/step - loss: 0.2508 - accuracy: 0.9030\n",
      "Epoch 144/150\n",
      "268/268 [==============================] - 0s 160us/step - loss: 0.2474 - accuracy: 0.9030\n",
      "Epoch 145/150\n",
      "268/268 [==============================] - 0s 164us/step - loss: 0.2476 - accuracy: 0.9104\n",
      "Epoch 146/150\n",
      "268/268 [==============================] - 0s 175us/step - loss: 0.2460 - accuracy: 0.9142\n",
      "Epoch 147/150\n",
      "268/268 [==============================] - 0s 171us/step - loss: 0.2456 - accuracy: 0.9104\n",
      "Epoch 148/150\n",
      "268/268 [==============================] - 0s 179us/step - loss: 0.2438 - accuracy: 0.9142\n",
      "Epoch 149/150\n",
      "268/268 [==============================] - 0s 309us/step - loss: 0.2501 - accuracy: 0.8918\n",
      "Epoch 150/150\n",
      "268/268 [==============================] - 0s 469us/step - loss: 0.2451 - accuracy: 0.9142\n"
     ]
    },
    {
     "data": {
      "text/plain": [
       "<keras.callbacks.callbacks.History at 0x211aa076ef0>"
      ]
     },
     "execution_count": 56,
     "metadata": {},
     "output_type": "execute_result"
    }
   ],
   "source": [
    "model.fit(X_test, y_test, epochs = 150, batch_size = 10)"
   ]
  },
  {
   "cell_type": "markdown",
   "metadata": {
    "colab_type": "text",
    "id": "UdCf3E5qYz1O"
   },
   "source": [
    "Run this to see how your model has done."
   ]
  },
  {
   "cell_type": "code",
   "execution_count": 57,
   "metadata": {
    "colab": {
     "base_uri": "https://localhost:8080/",
     "height": 122
    },
    "colab_type": "code",
    "id": "JYU1dS_WZFGN",
    "outputId": "1e6debb9-8e81-4d9b-dc59-b3bd34b604a5"
   },
   "outputs": [
    {
     "name": "stdout",
     "output_type": "stream",
     "text": [
      "268/268 [==============================] - 0s 160us/step\n",
      "\n",
      "loss: 24.18%\n",
      "\n",
      "accuracy: 91.42%\n"
     ]
    }
   ],
   "source": [
    "scores = model.evaluate(X_test, y_test)\n",
    "for i in range(len(scores)):\n",
    " print(\"\\n%s: %.2f%%\" % (model.metrics_names[i], scores[i]*100))"
   ]
  },
  {
   "cell_type": "markdown",
   "metadata": {
    "colab_type": "text",
    "id": "HbnT3QGiMFQD"
   },
   "source": [
    "## Test Time"
   ]
  },
  {
   "cell_type": "markdown",
   "metadata": {
    "colab_type": "text",
    "id": "7zLzflaUY8QE"
   },
   "source": [
    "Time to test our model on the hold out test dataset provided. Read test.csv into a data from called test_df"
   ]
  },
  {
   "cell_type": "code",
   "execution_count": 60,
   "metadata": {
    "colab": {},
    "colab_type": "code",
    "id": "ekgufMhS41Rp"
   },
   "outputs": [],
   "source": [
    "test_df = pd.read_csv(\"test.csv\")\n",
    "fm ={'Sex':{'male': 0, 'female': 1}}\n",
    "test_df.replace(fm, inplace=True)"
   ]
  },
  {
   "cell_type": "markdown",
   "metadata": {
    "colab_type": "text",
    "id": "3r3LwkoGZB8O"
   },
   "source": [
    "We do the same as before and pre-process our data.Remember to remove the null values as well as normalize the age and fare columns.\n",
    "\n"
   ]
  },
  {
   "cell_type": "markdown",
   "metadata": {
    "colab_type": "text",
    "id": "HGRj2Y_MKWNl"
   },
   "source": [
    "Remove null values for age"
   ]
  },
  {
   "cell_type": "code",
   "execution_count": 61,
   "metadata": {
    "colab": {},
    "colab_type": "code",
    "id": "UIuebn8ZJmu8"
   },
   "outputs": [],
   "source": [
    "test_df['Age'] = test_df['Age'].fillna(test_df['Age'].median())"
   ]
  },
  {
   "cell_type": "markdown",
   "metadata": {
    "colab_type": "text",
    "id": "Av3nN-hqKZl7"
   },
   "source": [
    "Normalize age"
   ]
  },
  {
   "cell_type": "code",
   "execution_count": 62,
   "metadata": {
    "colab": {},
    "colab_type": "code",
    "id": "i4U2pQ9tKvsT"
   },
   "outputs": [],
   "source": [
    "test_df['Age'] = (test_df['Age']-test_df['Age'].mean())/test_df['Age'].std()"
   ]
  },
  {
   "cell_type": "markdown",
   "metadata": {
    "colab_type": "text",
    "id": "JfySyej6KcAL"
   },
   "source": [
    "Normalize Fare"
   ]
  },
  {
   "cell_type": "code",
   "execution_count": 63,
   "metadata": {
    "colab": {},
    "colab_type": "code",
    "id": "s0kln56VK_LB"
   },
   "outputs": [],
   "source": [
    "test_df['Fare'] = (test_df['Fare']-test_df['Fare'].mean())/test_df['Fare'].std()"
   ]
  },
  {
   "cell_type": "markdown",
   "metadata": {
    "colab_type": "text",
    "id": "twHtXePmKwWy"
   },
   "source": [
    "Extract the same features as before into a variable."
   ]
  },
  {
   "cell_type": "code",
   "execution_count": 64,
   "metadata": {
    "colab": {},
    "colab_type": "code",
    "id": "kqv3Fl0fLS9i"
   },
   "outputs": [],
   "source": [
    "test = test_df[['Age', 'Parch', 'SibSp', 'Fare', 'Pclass', 'Sex']].values"
   ]
  },
  {
   "cell_type": "markdown",
   "metadata": {
    "colab_type": "text",
    "id": "mqW0VkEuLKt9"
   },
   "source": [
    "Use your model to make predicition on the data. Store the result in a variable called predicitions."
   ]
  },
  {
   "cell_type": "code",
   "execution_count": 65,
   "metadata": {
    "colab": {},
    "colab_type": "code",
    "id": "DEZrnQukLlcA",
    "scrolled": false
   },
   "outputs": [],
   "source": [
    "predicitions = model.predict(test)"
   ]
  },
  {
   "cell_type": "markdown",
   "metadata": {
    "colab_type": "text",
    "id": "X01GT0__Lhfq"
   },
   "source": [
    "The neural network model will produce values between 0 and 1 that represent the probability of the person surving. We convert those values to either 0 or 1 with those that have less than 50% of surving a 0 and those that have greater a 1."
   ]
  },
  {
   "cell_type": "code",
   "execution_count": 66,
   "metadata": {
    "colab": {},
    "colab_type": "code",
    "id": "odt-HoJrLaii"
   },
   "outputs": [
    {
     "name": "stderr",
     "output_type": "stream",
     "text": [
      "c:\\users\\jovani\\miniconda3\\envs\\tensorflow\\lib\\site-packages\\ipykernel_launcher.py:2: RuntimeWarning: invalid value encountered in less\n",
      "  \n"
     ]
    }
   ],
   "source": [
    "predicitions = predicitions.squeeze(1)\n",
    "predicitions = np.where(predicitions < 0.5 , 0, 1)"
   ]
  },
  {
   "cell_type": "markdown",
   "metadata": {
    "colab_type": "text",
    "id": "krrKjfe9L7J_"
   },
   "source": [
    "Let us look at how our predicitions looks"
   ]
  },
  {
   "cell_type": "code",
   "execution_count": 67,
   "metadata": {
    "colab": {
     "base_uri": "https://localhost:8080/",
     "height": 340
    },
    "colab_type": "code",
    "id": "NfeIHw04Ok5f",
    "outputId": "0b4c40bd-b56d-4f3a-f742-d3f4b9df6ca4"
   },
   "outputs": [
    {
     "data": {
      "text/plain": [
       "array([0, 0, 0, 0, 1, 0, 1, 0, 0, 0, 0, 1, 1, 0, 1, 1, 0, 0, 1, 1, 0, 1,\n",
       "       1, 1, 1, 0, 1, 0, 1, 0, 0, 0, 0, 0, 1, 0, 1, 0, 0, 1, 0, 0, 0, 1,\n",
       "       1, 0, 1, 0, 1, 0, 1, 0, 1, 1, 0, 0, 0, 0, 0, 1, 0, 0, 0, 0, 1, 1,\n",
       "       0, 1, 0, 1, 0, 0, 1, 0, 1, 0, 0, 1, 0, 0, 1, 0, 1, 0, 0, 0, 1, 0,\n",
       "       1, 1, 1, 0, 1, 0, 0, 0, 1, 0, 0, 0, 1, 0, 0, 0, 1, 0, 0, 0, 0, 0,\n",
       "       0, 1, 1, 0, 1, 0, 0, 1, 1, 1, 1, 0, 1, 0, 0, 1, 0, 1, 0, 0, 0, 1,\n",
       "       1, 0, 0, 0, 0, 0, 0, 0, 0, 1, 0, 0, 1, 0, 0, 0, 0, 0, 1, 0, 1, 0,\n",
       "       0, 0, 1, 0, 1, 0, 1, 1, 1, 0, 0, 1, 1, 1, 1, 0, 0, 0, 0, 0, 0, 1,\n",
       "       1, 0, 1, 1, 0, 0, 1, 0, 1, 0, 1, 0, 0, 0, 0, 0, 1, 0, 1, 0, 1, 0,\n",
       "       0, 1, 1, 1, 0, 1, 0, 0, 1, 0, 1, 0, 0, 0, 0, 1, 0, 1, 1, 0, 1, 0,\n",
       "       1, 0, 1, 0, 1, 0, 0, 1, 0, 0, 0, 1, 0, 0, 0, 0, 0, 0, 1, 1, 1, 1,\n",
       "       0, 0, 1, 0, 1, 0, 1, 1, 1, 0, 0, 0, 0, 0, 0, 0, 1, 0, 0, 0, 1, 1,\n",
       "       0, 0, 0, 0, 1, 0, 1, 0, 1, 1, 0, 1, 0, 0, 0, 0, 0, 1, 1, 1, 1, 0,\n",
       "       0, 0, 0, 0, 0, 1, 0, 0, 0, 0, 1, 0, 1, 0, 0, 0, 0, 0, 1, 1, 1, 1,\n",
       "       0, 0, 0, 0, 0, 1, 1, 1, 0, 0, 0, 0, 0, 0, 0, 0, 1, 0, 1, 1, 0, 0,\n",
       "       1, 1, 0, 1, 0, 0, 0, 0, 0, 0, 0, 0, 1, 1, 1, 1, 0, 1, 0, 1, 1, 0,\n",
       "       0, 0, 1, 1, 1, 0, 0, 1, 0, 1, 1, 0, 1, 1, 0, 1, 1, 0, 0, 1, 0, 0,\n",
       "       1, 1, 1, 0, 0, 1, 0, 0, 1, 1, 0, 0, 0, 0, 0, 0, 0, 1, 1, 0, 0, 1,\n",
       "       0, 1, 0, 0, 1, 0, 1, 1, 0, 0, 0, 0, 1, 1, 1, 1, 1, 0, 1, 0, 0, 1])"
      ]
     },
     "execution_count": 67,
     "metadata": {},
     "output_type": "execute_result"
    }
   ],
   "source": [
    "predicitions"
   ]
  },
  {
   "cell_type": "markdown",
   "metadata": {
    "colab_type": "text",
    "id": "V0eDi7ZAZnDg"
   },
   "source": [
    "## Create a submission csv file"
   ]
  },
  {
   "cell_type": "markdown",
   "metadata": {
    "colab_type": "text",
    "id": "w6EFTPSLNIh3"
   },
   "source": [
    "Create a data frame with two columns PassengerId and Survived (Try the pd.DataFrame function). The PassengerId column should have the same values as the PassengerId column from the test_df dataframe from above and Survived column should be the predicitions you just created. Create a csv file from this data frome (Try using the .to_csv funtion, however make sure to remove indexes so set to the index flag to false). This should created a csv file, this is what you submit to kaggle."
   ]
  },
  {
   "cell_type": "code",
   "execution_count": 68,
   "metadata": {
    "colab": {},
    "colab_type": "code",
    "id": "cpSjVS9KLwgr",
    "scrolled": true
   },
   "outputs": [],
   "source": [
    "titanic = pd.DataFrame(test_df['PassengerId'])\n",
    "titanic['Survived'] = pd.Series(predicitions)\n",
    "titanic.to_csv('Submission.csv', index = None, header=True)"
   ]
  },
  {
   "cell_type": "markdown",
   "metadata": {
    "colab_type": "text",
    "id": "LAg6j2S4O5oB"
   },
   "source": [
    "## Bonus"
   ]
  },
  {
   "cell_type": "markdown",
   "metadata": {
    "colab_type": "text",
    "id": "V0kA-IRRO7be"
   },
   "source": [
    "If you wish to get a better accuracy try extracting the sex column as well, note you will need to find some way to convert that column to a numeric column (e.g male=0, female=1)"
   ]
  }
 ],
 "metadata": {
  "accelerator": "GPU",
  "colab": {
   "collapsed_sections": [],
   "name": "Comp3220 Assignment",
   "provenance": [],
   "toc_visible": true
  },
  "kernelspec": {
   "display_name": "Python 3",
   "language": "python",
   "name": "python3"
  },
  "language_info": {
   "codemirror_mode": {
    "name": "ipython",
    "version": 3
   },
   "file_extension": ".py",
   "mimetype": "text/x-python",
   "name": "python",
   "nbconvert_exporter": "python",
   "pygments_lexer": "ipython3",
   "version": "3.6.9"
  }
 },
 "nbformat": 4,
 "nbformat_minor": 1
}
